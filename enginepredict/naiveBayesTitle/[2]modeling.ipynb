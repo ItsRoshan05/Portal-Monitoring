{
 "cells": [
  {
   "cell_type": "code",
   "execution_count": 6,
   "metadata": {},
   "outputs": [],
   "source": [
    "import pandas as pd "
   ]
  },
  {
   "cell_type": "markdown",
   "metadata": {},
   "source": [
    "# Import Dataset"
   ]
  },
  {
   "cell_type": "code",
   "execution_count": 7,
   "metadata": {},
   "outputs": [
    {
     "data": {
      "text/html": [
       "<div>\n",
       "<style scoped>\n",
       "    .dataframe tbody tr th:only-of-type {\n",
       "        vertical-align: middle;\n",
       "    }\n",
       "\n",
       "    .dataframe tbody tr th {\n",
       "        vertical-align: top;\n",
       "    }\n",
       "\n",
       "    .dataframe thead th {\n",
       "        text-align: right;\n",
       "    }\n",
       "</style>\n",
       "<table border=\"1\" class=\"dataframe\">\n",
       "  <thead>\n",
       "    <tr style=\"text-align: right;\">\n",
       "      <th></th>\n",
       "      <th>title</th>\n",
       "      <th>lemma</th>\n",
       "      <th>label</th>\n",
       "    </tr>\n",
       "  </thead>\n",
       "  <tbody>\n",
       "    <tr>\n",
       "      <th>0</th>\n",
       "      <td>ngatiyana terjun langsung menemui warga menamp...</td>\n",
       "      <td>ngatiyana terjun langsung menemui warga menamp...</td>\n",
       "      <td>1</td>\n",
       "    </tr>\n",
       "    <tr>\n",
       "      <th>1</th>\n",
       "      <td>spesifikasi redmi 10c hp gaming murah rp 1 jutaan</td>\n",
       "      <td>spesifikasi redmi 10c hp gaming murah 1 jutaan</td>\n",
       "      <td>0</td>\n",
       "    </tr>\n",
       "    <tr>\n",
       "      <th>2</th>\n",
       "      <td>puluhan rumah di perum griya zavira cilawu ter...</td>\n",
       "      <td>puluhan rumah perum griya zavira cilawu teranc...</td>\n",
       "      <td>2</td>\n",
       "    </tr>\n",
       "    <tr>\n",
       "      <th>3</th>\n",
       "      <td>prakiraan cuaca kota-kota besar di indonesia u...</td>\n",
       "      <td>prakiraan cuaca kota - kota indonesia senin 25...</td>\n",
       "      <td>0</td>\n",
       "    </tr>\n",
       "    <tr>\n",
       "      <th>4</th>\n",
       "      <td>kurang dari 24 jam pelaku pembunuh remaja dici...</td>\n",
       "      <td>kurang 24 jam pelaku pembunuh remaja diciduk s...</td>\n",
       "      <td>2</td>\n",
       "    </tr>\n",
       "  </tbody>\n",
       "</table>\n",
       "</div>"
      ],
      "text/plain": [
       "                                               title   \n",
       "0  ngatiyana terjun langsung menemui warga menamp...  \\\n",
       "1  spesifikasi redmi 10c hp gaming murah rp 1 jutaan   \n",
       "2  puluhan rumah di perum griya zavira cilawu ter...   \n",
       "3  prakiraan cuaca kota-kota besar di indonesia u...   \n",
       "4  kurang dari 24 jam pelaku pembunuh remaja dici...   \n",
       "\n",
       "                                               lemma  label  \n",
       "0  ngatiyana terjun langsung menemui warga menamp...      1  \n",
       "1     spesifikasi redmi 10c hp gaming murah 1 jutaan      0  \n",
       "2  puluhan rumah perum griya zavira cilawu teranc...      2  \n",
       "3  prakiraan cuaca kota - kota indonesia senin 25...      0  \n",
       "4  kurang 24 jam pelaku pembunuh remaja diciduk s...      2  "
      ]
     },
     "execution_count": 7,
     "metadata": {},
     "output_type": "execute_result"
    }
   ],
   "source": [
    "df = pd.read_csv('../dataSet/datasetTitle/titleClean1000_3.csv')\n",
    "df[['title','lemma', 'label']].head()"
   ]
  },
  {
   "cell_type": "code",
   "execution_count": 8,
   "metadata": {},
   "outputs": [
    {
     "data": {
      "text/plain": [
       "title                    object\n",
       "Token                    object\n",
       "tag                      object\n",
       "stopwordByTag            object\n",
       "stemmed                  object\n",
       "lemma            string[python]\n",
       "label                  category\n",
       "ceked                      bool\n",
       "dtype: object"
      ]
     },
     "execution_count": 8,
     "metadata": {},
     "output_type": "execute_result"
    }
   ],
   "source": [
    "df = df.astype({'label' : 'category'})\n",
    "df = df.astype({'lemma' : 'string'})\n",
    "df.dtypes"
   ]
  },
  {
   "cell_type": "markdown",
   "metadata": {},
   "source": [
    "# Feature Extraction TF-IDF"
   ]
  },
  {
   "cell_type": "code",
   "execution_count": 9,
   "metadata": {},
   "outputs": [],
   "source": [
    "from sklearn.feature_extraction.text import TfidfVectorizer\n",
    "from sklearn.feature_extraction.text import CountVectorizer\n",
    "\n",
    "x = df['lemma']\n",
    "y = df['label']\n",
    "\n",
    "# tf = TfidfVectorizer()\n",
    "# text_tf = tf.fit_transform(df['stemmed'])"
   ]
  },
  {
   "cell_type": "markdown",
   "metadata": {},
   "source": [
    "# NaiveBayes"
   ]
  },
  {
   "cell_type": "code",
   "execution_count": 10,
   "metadata": {},
   "outputs": [],
   "source": [
    "from sklearn.model_selection import train_test_split\n",
    "\n",
    "x_train, x_test, y_train, y_test = train_test_split(x, y, test_size=0.1, random_state=5)"
   ]
  },
  {
   "cell_type": "code",
   "execution_count": 11,
   "metadata": {},
   "outputs": [
    {
     "name": "stdout",
     "output_type": "stream",
     "text": [
      "544    guyur kadeudeuh pemkot apresiasi prestasi kont...\n",
      "515       fraksi demokrat dukung program kerja knpi kota\n",
      "193    dilantik ketua dpd tmp jabar niko rinaldo rang...\n",
      "11     bacaan niat puasa senin - kami doa berbuka keu...\n",
      "279        pemkot seriusi bpjs ketenagakerjaan non - asn\n",
      "                             ...                        \n",
      "964    warga panik pabrik tripleks beji dilalap si ja...\n",
      "902    ppkm level 1 kota tuan rumah liga ibl playoff ...\n",
      "577         miras berbau sara persis polisikan holywings\n",
      "176    segini jumlah jeroan sapi domba dimusnahkan dk...\n",
      "441    sejahterakan umat remaja masjid jawa timur pel...\n",
      "Name: lemma, Length: 100, dtype: string\n"
     ]
    }
   ],
   "source": [
    "print(x_test)"
   ]
  },
  {
   "cell_type": "code",
   "execution_count": 12,
   "metadata": {},
   "outputs": [
    {
     "name": "stdout",
     "output_type": "stream",
     "text": [
      "106    ketua dprd dorong pemberlakuan ganjil - genap ...\n",
      "537    sambut kedatangan 10 hari zulhijah global qurb...\n",
      "201        tingkatkan ak pendidikan pemkot bangun 16 smp\n",
      "698    seorang lelaki baya menculik rudapaksa bocah 1...\n",
      "370    rangkaian acara pernikahan via vallen chevra y...\n",
      "                             ...                        \n",
      "400    ketum smsi firdaus kembangkan jalinan sinergit...\n",
      "118             cara pengolahan sampah rw 12 maleer kota\n",
      "701              dudung abdurachman loper koran jenderal\n",
      "206                    menpora stadion gbla layak persib\n",
      "867    wali siswa sdn 172 andir kidul upacara dukung ...\n",
      "Name: lemma, Length: 900, dtype: string\n"
     ]
    }
   ],
   "source": [
    "print(x_train)"
   ]
  },
  {
   "cell_type": "code",
   "execution_count": 13,
   "metadata": {},
   "outputs": [],
   "source": [
    "tf = TfidfVectorizer()\n",
    "tftext = tf.fit_transform(x_train)\n",
    "x_tes_tf = tf.transform(x_test)"
   ]
  },
  {
   "cell_type": "code",
   "execution_count": 14,
   "metadata": {},
   "outputs": [
    {
     "data": {
      "text/html": [
       "<style>#sk-container-id-1 {color: black;}#sk-container-id-1 pre{padding: 0;}#sk-container-id-1 div.sk-toggleable {background-color: white;}#sk-container-id-1 label.sk-toggleable__label {cursor: pointer;display: block;width: 100%;margin-bottom: 0;padding: 0.3em;box-sizing: border-box;text-align: center;}#sk-container-id-1 label.sk-toggleable__label-arrow:before {content: \"▸\";float: left;margin-right: 0.25em;color: #696969;}#sk-container-id-1 label.sk-toggleable__label-arrow:hover:before {color: black;}#sk-container-id-1 div.sk-estimator:hover label.sk-toggleable__label-arrow:before {color: black;}#sk-container-id-1 div.sk-toggleable__content {max-height: 0;max-width: 0;overflow: hidden;text-align: left;background-color: #f0f8ff;}#sk-container-id-1 div.sk-toggleable__content pre {margin: 0.2em;color: black;border-radius: 0.25em;background-color: #f0f8ff;}#sk-container-id-1 input.sk-toggleable__control:checked~div.sk-toggleable__content {max-height: 200px;max-width: 100%;overflow: auto;}#sk-container-id-1 input.sk-toggleable__control:checked~label.sk-toggleable__label-arrow:before {content: \"▾\";}#sk-container-id-1 div.sk-estimator input.sk-toggleable__control:checked~label.sk-toggleable__label {background-color: #d4ebff;}#sk-container-id-1 div.sk-label input.sk-toggleable__control:checked~label.sk-toggleable__label {background-color: #d4ebff;}#sk-container-id-1 input.sk-hidden--visually {border: 0;clip: rect(1px 1px 1px 1px);clip: rect(1px, 1px, 1px, 1px);height: 1px;margin: -1px;overflow: hidden;padding: 0;position: absolute;width: 1px;}#sk-container-id-1 div.sk-estimator {font-family: monospace;background-color: #f0f8ff;border: 1px dotted black;border-radius: 0.25em;box-sizing: border-box;margin-bottom: 0.5em;}#sk-container-id-1 div.sk-estimator:hover {background-color: #d4ebff;}#sk-container-id-1 div.sk-parallel-item::after {content: \"\";width: 100%;border-bottom: 1px solid gray;flex-grow: 1;}#sk-container-id-1 div.sk-label:hover label.sk-toggleable__label {background-color: #d4ebff;}#sk-container-id-1 div.sk-serial::before {content: \"\";position: absolute;border-left: 1px solid gray;box-sizing: border-box;top: 0;bottom: 0;left: 50%;z-index: 0;}#sk-container-id-1 div.sk-serial {display: flex;flex-direction: column;align-items: center;background-color: white;padding-right: 0.2em;padding-left: 0.2em;position: relative;}#sk-container-id-1 div.sk-item {position: relative;z-index: 1;}#sk-container-id-1 div.sk-parallel {display: flex;align-items: stretch;justify-content: center;background-color: white;position: relative;}#sk-container-id-1 div.sk-item::before, #sk-container-id-1 div.sk-parallel-item::before {content: \"\";position: absolute;border-left: 1px solid gray;box-sizing: border-box;top: 0;bottom: 0;left: 50%;z-index: -1;}#sk-container-id-1 div.sk-parallel-item {display: flex;flex-direction: column;z-index: 1;position: relative;background-color: white;}#sk-container-id-1 div.sk-parallel-item:first-child::after {align-self: flex-end;width: 50%;}#sk-container-id-1 div.sk-parallel-item:last-child::after {align-self: flex-start;width: 50%;}#sk-container-id-1 div.sk-parallel-item:only-child::after {width: 0;}#sk-container-id-1 div.sk-dashed-wrapped {border: 1px dashed gray;margin: 0 0.4em 0.5em 0.4em;box-sizing: border-box;padding-bottom: 0.4em;background-color: white;}#sk-container-id-1 div.sk-label label {font-family: monospace;font-weight: bold;display: inline-block;line-height: 1.2em;}#sk-container-id-1 div.sk-label-container {text-align: center;}#sk-container-id-1 div.sk-container {/* jupyter's `normalize.less` sets `[hidden] { display: none; }` but bootstrap.min.css set `[hidden] { display: none !important; }` so we also need the `!important` here to be able to override the default hidden behavior on the sphinx rendered scikit-learn.org. See: https://github.com/scikit-learn/scikit-learn/issues/21755 */display: inline-block !important;position: relative;}#sk-container-id-1 div.sk-text-repr-fallback {display: none;}</style><div id=\"sk-container-id-1\" class=\"sk-top-container\"><div class=\"sk-text-repr-fallback\"><pre>MultinomialNB(alpha=0.2)</pre><b>In a Jupyter environment, please rerun this cell to show the HTML representation or trust the notebook. <br />On GitHub, the HTML representation is unable to render, please try loading this page with nbviewer.org.</b></div><div class=\"sk-container\" hidden><div class=\"sk-item\"><div class=\"sk-estimator sk-toggleable\"><input class=\"sk-toggleable__control sk-hidden--visually\" id=\"sk-estimator-id-1\" type=\"checkbox\" checked><label for=\"sk-estimator-id-1\" class=\"sk-toggleable__label sk-toggleable__label-arrow\">MultinomialNB</label><div class=\"sk-toggleable__content\"><pre>MultinomialNB(alpha=0.2)</pre></div></div></div></div></div>"
      ],
      "text/plain": [
       "MultinomialNB(alpha=0.2)"
      ]
     },
     "execution_count": 14,
     "metadata": {},
     "output_type": "execute_result"
    }
   ],
   "source": [
    "from sklearn.metrics import classification_report, confusion_matrix, accuracy_score, f1_score, precision_score, recall_score\n",
    "import sklearn.naive_bayes as nb\n",
    "\n",
    "clf = nb.MultinomialNB(alpha=0.2)\n",
    "clf.fit(tftext, y_train)\n",
    "# predicted_clf = clf.predict(x_test)"
   ]
  },
  {
   "cell_type": "code",
   "execution_count": 15,
   "metadata": {},
   "outputs": [],
   "source": [
    "predicted_clf = clf.predict(x_tes_tf)"
   ]
  },
  {
   "cell_type": "code",
   "execution_count": 16,
   "metadata": {},
   "outputs": [
    {
     "name": "stdout",
     "output_type": "stream",
     "text": [
      "MultinomialNB Accuracy:  0.84\n",
      "MultinomialNB Precision:  0.8550103519668737\n",
      "MultinomialNB Recall:  0.84\n",
      "MultinomialNB f1_score:  0.8330741628310955\n",
      "Confussion matrix: \n",
      " [[18  7  0]\n",
      " [ 2 56  0]\n",
      " [ 1  6 10]]\n",
      "===============================================================\n",
      "              precision    recall  f1-score   support\n",
      "\n",
      "           0       0.86      0.72      0.78        25\n",
      "           1       0.81      0.97      0.88        58\n",
      "           2       1.00      0.59      0.74        17\n",
      "\n",
      "    accuracy                           0.84       100\n",
      "   macro avg       0.89      0.76      0.80       100\n",
      "weighted avg       0.86      0.84      0.83       100\n",
      "\n"
     ]
    }
   ],
   "source": [
    "print(\"MultinomialNB Accuracy: \", accuracy_score(y_test, predicted_clf))\n",
    "print(\"MultinomialNB Precision: \", precision_score(y_test, predicted_clf, average='weighted'))\n",
    "print(\"MultinomialNB Recall: \", recall_score(y_test, predicted_clf, average='weighted'))\n",
    "print(\"MultinomialNB f1_score: \", f1_score(y_test, predicted_clf, average='weighted'))\n",
    "\n",
    "\n",
    "print(f\"Confussion matrix: \\n {confusion_matrix(y_test,predicted_clf)}\")\n",
    "print(\"===============================================================\")\n",
    "print(classification_report(y_test, predicted_clf, zero_division=0))"
   ]
  },
  {
   "cell_type": "markdown",
   "metadata": {},
   "source": [
    "# Export Model"
   ]
  },
  {
   "cell_type": "code",
   "execution_count": 17,
   "metadata": {},
   "outputs": [],
   "source": [
    "import joblib"
   ]
  },
  {
   "cell_type": "code",
   "execution_count": 18,
   "metadata": {},
   "outputs": [
    {
     "data": {
      "text/plain": [
       "['../outputModel/outputModelTitle/main_0_2_1.joblib']"
      ]
     },
     "execution_count": 18,
     "metadata": {},
     "output_type": "execute_result"
    }
   ],
   "source": [
    "joblib.dump(clf, '../outputModel/outputModelTitle/main_0_2_1.joblib')"
   ]
  },
  {
   "cell_type": "code",
   "execution_count": 19,
   "metadata": {},
   "outputs": [
    {
     "data": {
      "text/plain": [
       "['../outputModel/outputModelTitle/main_0_2_1featureextraction.joblib']"
      ]
     },
     "execution_count": 19,
     "metadata": {},
     "output_type": "execute_result"
    }
   ],
   "source": [
    "joblib.dump(tf, '../outputModel/outputModelTitle/main_0_2_1featureextraction.joblib')"
   ]
  },
  {
   "cell_type": "code",
   "execution_count": 20,
   "metadata": {},
   "outputs": [],
   "source": [
    "# classifer = joblib.load('../outputModel/outputModelTitle/testing.pkl')"
   ]
  },
  {
   "cell_type": "code",
   "execution_count": 21,
   "metadata": {},
   "outputs": [],
   "source": [
    "# print(classifer.predict(x_tes_tf))"
   ]
  },
  {
   "cell_type": "code",
   "execution_count": null,
   "metadata": {},
   "outputs": [],
   "source": []
  }
 ],
 "metadata": {
  "kernelspec": {
   "display_name": "Python 3",
   "language": "python",
   "name": "python3"
  },
  "language_info": {
   "codemirror_mode": {
    "name": "ipython",
    "version": 3
   },
   "file_extension": ".py",
   "mimetype": "text/x-python",
   "name": "python",
   "nbconvert_exporter": "python",
   "pygments_lexer": "ipython3",
   "version": "3.8.5"
  }
 },
 "nbformat": 4,
 "nbformat_minor": 2
}
