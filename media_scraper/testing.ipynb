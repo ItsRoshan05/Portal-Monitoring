{
 "cells": [
  {
   "cell_type": "code",
   "execution_count": 6,
   "metadata": {},
   "outputs": [],
   "source": [
    "import pandas as pd"
   ]
  },
  {
   "cell_type": "code",
   "execution_count": 17,
   "metadata": {},
   "outputs": [],
   "source": [
    "df = pd.read_csv('testing7.csv')"
   ]
  },
  {
   "cell_type": "code",
   "execution_count": 18,
   "metadata": {},
   "outputs": [
    {
     "data": {
      "text/html": [
       "<div>\n",
       "<style scoped>\n",
       "    .dataframe tbody tr th:only-of-type {\n",
       "        vertical-align: middle;\n",
       "    }\n",
       "\n",
       "    .dataframe tbody tr th {\n",
       "        vertical-align: top;\n",
       "    }\n",
       "\n",
       "    .dataframe thead th {\n",
       "        text-align: right;\n",
       "    }\n",
       "</style>\n",
       "<table border=\"1\" class=\"dataframe\">\n",
       "  <thead>\n",
       "    <tr style=\"text-align: right;\">\n",
       "      <th></th>\n",
       "      <th>judul</th>\n",
       "      <th>link</th>\n",
       "      <th>isi</th>\n",
       "      <th>penulis</th>\n",
       "      <th>editor</th>\n",
       "      <th>user_target</th>\n",
       "    </tr>\n",
       "  </thead>\n",
       "  <tbody>\n",
       "    <tr>\n",
       "      <th>0</th>\n",
       "      <td>Lika-liku PSI Diterpa Dugaan Penggelembungan S...</td>\n",
       "      <td>https://nasional.tempo.co/read/1848350/lika-li...</td>\n",
       "      <td>Partai Solidaritas Indonesia atau  PSI  sempat...</td>\n",
       "      <td>Myesha Fatina Rachman</td>\n",
       "      <td>Dwi Arjanto</td>\n",
       "      <td>PSI</td>\n",
       "    </tr>\n",
       "    <tr>\n",
       "      <th>1</th>\n",
       "      <td>Partai Demokrat Siapkan 7 Kader untuk Maju  Ba...</td>\n",
       "      <td>https://nasional.tempo.co/read/1857005/partai-...</td>\n",
       "      <td>Ketua Badan Pemenangan Pemilu (Bappilu)  Parta...</td>\n",
       "      <td>Defara Dhanya Paramitha</td>\n",
       "      <td>Juli Hantoro</td>\n",
       "      <td>DEMOKRAT</td>\n",
       "    </tr>\n",
       "    <tr>\n",
       "      <th>2</th>\n",
       "      <td>Prabowo Kunjungi SBY di Cikeas, Demokrat: Pert...</td>\n",
       "      <td>https://nasional.tempo.co/read/1856063/prabowo...</td>\n",
       "      <td>Calon presiden terpilih  Prabowo  Subianto men...</td>\n",
       "      <td>Sultan Abdurrahman</td>\n",
       "      <td>Ninis Chairunnisa</td>\n",
       "      <td>DEMOKRAT</td>\n",
       "    </tr>\n",
       "    <tr>\n",
       "      <th>3</th>\n",
       "      <td>Demokrat Minta Kapolri dan Jaksa Agung Hentika...</td>\n",
       "      <td>https://nasional.tempo.co/read/1858426/demokra...</td>\n",
       "      <td>Dewan Pimpinan Pusat atau DPP Partai  Demokrat...</td>\n",
       "      <td>Defara Dhanya Paramitha</td>\n",
       "      <td>Ninis Chairunnisa</td>\n",
       "      <td>DEMOKRAT</td>\n",
       "    </tr>\n",
       "    <tr>\n",
       "      <th>4</th>\n",
       "      <td>Timnas AMIN Gugat Hasil Pemilu 2024 ke MK, PP...</td>\n",
       "      <td>https://nasional.tempo.co/read/1848301/timnas-...</td>\n",
       "      <td>Komisi Pemilihan Umum atau KPU telah mengumumk...</td>\n",
       "      <td>Michelle Gabriela</td>\n",
       "      <td>S. Dian Andryanto</td>\n",
       "      <td>PSI</td>\n",
       "    </tr>\n",
       "  </tbody>\n",
       "</table>\n",
       "</div>"
      ],
      "text/plain": [
       "                                               judul  \\\n",
       "0  Lika-liku PSI Diterpa Dugaan Penggelembungan S...   \n",
       "1  Partai Demokrat Siapkan 7 Kader untuk Maju  Ba...   \n",
       "2  Prabowo Kunjungi SBY di Cikeas, Demokrat: Pert...   \n",
       "3  Demokrat Minta Kapolri dan Jaksa Agung Hentika...   \n",
       "4   Timnas AMIN Gugat Hasil Pemilu 2024 ke MK, PP...   \n",
       "\n",
       "                                                link  \\\n",
       "0  https://nasional.tempo.co/read/1848350/lika-li...   \n",
       "1  https://nasional.tempo.co/read/1857005/partai-...   \n",
       "2  https://nasional.tempo.co/read/1856063/prabowo...   \n",
       "3  https://nasional.tempo.co/read/1858426/demokra...   \n",
       "4  https://nasional.tempo.co/read/1848301/timnas-...   \n",
       "\n",
       "                                                 isi                  penulis  \\\n",
       "0  Partai Solidaritas Indonesia atau  PSI  sempat...    Myesha Fatina Rachman   \n",
       "1  Ketua Badan Pemenangan Pemilu (Bappilu)  Parta...  Defara Dhanya Paramitha   \n",
       "2  Calon presiden terpilih  Prabowo  Subianto men...       Sultan Abdurrahman   \n",
       "3  Dewan Pimpinan Pusat atau DPP Partai  Demokrat...  Defara Dhanya Paramitha   \n",
       "4  Komisi Pemilihan Umum atau KPU telah mengumumk...       Michelle Gabriela    \n",
       "\n",
       "              editor user_target  \n",
       "0        Dwi Arjanto         PSI  \n",
       "1       Juli Hantoro    DEMOKRAT  \n",
       "2  Ninis Chairunnisa    DEMOKRAT  \n",
       "3  Ninis Chairunnisa    DEMOKRAT  \n",
       "4  S. Dian Andryanto         PSI  "
      ]
     },
     "execution_count": 18,
     "metadata": {},
     "output_type": "execute_result"
    }
   ],
   "source": [
    "df.head()"
   ]
  },
  {
   "cell_type": "code",
   "execution_count": 19,
   "metadata": {},
   "outputs": [
    {
     "data": {
      "text/plain": [
       "'Calon presiden nomor urut dua  Prabowo  Subianto berterima kasih kepada Partai  Golkar  dan Partai  Demokrat  yang telah mendukungnya di pemilihan presiden dan wakil presiden atau Pilpres . Dia pun menjanjikan hal ini. Janji Prabowo kepada kedua partai politik pendukungnya di Pilpres  itu disampaikannya dalam momen acara buka puasa bersama, tapi di kesempatan yang berbeda. Baca Juga: Pakar Hukum UGM Sebut Ada  Genre Hakim dalam Putusan MK Prabowo awalnya mengaku selalu mengatakan kepada kader Partai Gerindra agar belajar kepada Partai Golkar. Dia juga mengatakan partai yang dipimpin oleh Airlangga Hartarto itu berperan besar di  Pilpres  .  kata Prabowo di acara Peringatan Nuzulul Quran dan Buka Puasa Bersama Ramadan  Hijriah di Kantor DPP Partai Golkar, Slipi, Jakarta Barat, Jumat,  Maret , dikutip dari  Tempo . Menteri Pertahanan itu mengucapkan terima kasih kepada Partai Golkar. Dia juga mengatakan, Golkar lebih baik berada di dalam kubu yang mendukung dirinya. Baca Juga: Repnas Berharap Prabowo-Gibran Percepat Pertumbuhan Ekonomi Indonesia Dalam kesempatan itu, Prabowo mengatakan Golkar berperan besar dalam Pilpres . Tokoh-tokoh Golkar di berbagai daerah memiliki peran besar untuk memenangkan pasangan calon Prabowo Subianto-Gibran Rakabuming Raka. “Peran Partai Golkar sangat besar, kerja keras dari tokoh-tokoh Golkar saya lihat di daerah-daerah yang saya datangi, yang saya kampanye,\" ujar Prabowo. Dia meminta maaf karena belum sempat mendatangi semua kader Golkar di daerah dalam tahapan kampanye pemilu. Ia mengatakan akan berkunjung usai tahapan pemilu selesai. “Sesudah ini, saya akan menyapa daerah yang belum didatangi,” kata dia. Prabowo lantas meminta Golkar mendukungnya membangun pemerintah di masa depan. Dukungan itu, katanya, perlu untuk meneruskan dan menyempurnakan program pemerintah Presiden Joko Widodo atau Jokowi. “Kita harus meningkatkan efisiensi pemerintahan. Kita harus mengurangi kebocoran,” ujar Prabowo.'"
      ]
     },
     "execution_count": 19,
     "metadata": {},
     "output_type": "execute_result"
    }
   ],
   "source": [
    "df['isi'].iloc[43]"
   ]
  },
  {
   "cell_type": "code",
   "execution_count": null,
   "metadata": {},
   "outputs": [],
   "source": []
  }
 ],
 "metadata": {
  "kernelspec": {
   "display_name": "venv",
   "language": "python",
   "name": "python3"
  },
  "language_info": {
   "codemirror_mode": {
    "name": "ipython",
    "version": 3
   },
   "file_extension": ".py",
   "mimetype": "text/x-python",
   "name": "python",
   "nbconvert_exporter": "python",
   "pygments_lexer": "ipython3",
   "version": "3.11.3"
  }
 },
 "nbformat": 4,
 "nbformat_minor": 2
}
